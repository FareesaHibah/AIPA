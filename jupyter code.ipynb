{
 "cells": [
  {
   "cell_type": "code",
   "execution_count": 1,
   "id": "c3114a1c-3834-44a8-91fc-cbc9b1df4966",
   "metadata": {},
   "outputs": [
    {
     "name": "stdout",
     "output_type": "stream",
     "text": [
      "FAREESA\n"
     ]
    }
   ],
   "source": [
    "print(\"FAREESA\")"
   ]
  },
  {
   "cell_type": "code",
   "execution_count": 2,
   "id": "51172d77-a511-4fd2-90dd-a45a4d3de216",
   "metadata": {},
   "outputs": [
    {
     "name": "stdout",
     "output_type": "stream",
     "text": [
      "17\n"
     ]
    }
   ],
   "source": [
    "x=10\n",
    "y=7\n",
    "print(x+y)"
   ]
  },
  {
   "cell_type": "code",
   "execution_count": 3,
   "id": "ae672702-1ccf-453b-adc9-1092afc0fddd",
   "metadata": {},
   "outputs": [
    {
     "name": "stdout",
     "output_type": "stream",
     "text": [
      "FareesaHibah\n"
     ]
    }
   ],
   "source": [
    "x=\"Fareesa\"\n",
    "y=\"Hibah\"\n",
    "print(x+y)"
   ]
  },
  {
   "cell_type": "code",
   "execution_count": 4,
   "id": "82c30cee-3b06-4715-9c08-0a6c582179ee",
   "metadata": {},
   "outputs": [
    {
     "name": "stdout",
     "output_type": "stream",
     "text": [
      "Fareesa Hibah\n"
     ]
    }
   ],
   "source": [
    "x=\"Fareesa\"\n",
    "y=\" Hibah\"\n",
    "print(x+y)"
   ]
  },
  {
   "cell_type": "code",
   "execution_count": null,
   "id": "4588d940-90a7-4305-8415-069eac16c83f",
   "metadata": {},
   "outputs": [],
   "source": []
  }
 ],
 "metadata": {
  "kernelspec": {
   "display_name": "Python 3 (ipykernel)",
   "language": "python",
   "name": "python3"
  },
  "language_info": {
   "codemirror_mode": {
    "name": "ipython",
    "version": 3
   },
   "file_extension": ".py",
   "mimetype": "text/x-python",
   "name": "python",
   "nbconvert_exporter": "python",
   "pygments_lexer": "ipython3",
   "version": "3.12.7"
  }
 },
 "nbformat": 4,
 "nbformat_minor": 5
}
